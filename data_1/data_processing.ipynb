{
 "cells": [
  {
   "cell_type": "code",
   "execution_count": 1,
   "metadata": {
    "collapsed": true
   },
   "outputs": [
    {
     "name": "stdout",
     "output_type": "stream",
     "text": [
      "   customer_id  gender         date  value\n",
      "0         1000       0  1/1/17 0:11  198.5\n",
      "1         1001       0  1/1/17 0:29  338.0\n",
      "2         1002       1  1/1/17 1:30  733.0\n",
      "3         1003       1  1/1/17 1:34  772.0\n",
      "4         1004       0  1/1/17 3:11  508.0\n"
     ]
    }
   ],
   "source": [
    "# @author: Xinxin Tang\n",
    "# email: xinxin_tang@gwu.edu\n",
    "\n",
    "import pandas as pd\n",
    "import copy \n",
    "\n",
    "# import dataset \n",
    "data = pd.read_csv(\"/Users/xinxintang/Desktop/Projects/Python/面试/klaviyo/Klaviyo_DS_Screen_2.csv\")\n",
    "col = ['customer_id', 'gender', 'date', 'value']\n",
    "data = pd.DataFrame(data, columns=col)\n",
    "print(data.head())"
   ]
  },
  {
   "cell_type": "code",
   "execution_count": 2,
   "metadata": {},
   "outputs": [
    {
     "name": "stdout",
     "output_type": "stream",
     "text": [
      "       customer_id  gender most_recent_date  Order_count\n",
      "0             1000       0      1/1/17 0:11            1\n",
      "1             1001       0      1/1/17 0:29            1\n",
      "2             1002       1      1/1/17 1:30            3\n",
      "3             1003       1      1/1/17 1:34            4\n",
      "4             1004       0      1/1/17 3:11            1\n",
      "5             1005       1     1/1/17 10:08            2\n",
      "6             1006       1     1/1/17 15:42            3\n",
      "7             1007       0     1/1/17 15:59            1\n",
      "8             1008       0     1/1/17 18:01            3\n",
      "9             1009       1     1/1/17 19:27            1\n",
      "10            1010       1     1/1/17 19:41            2\n",
      "11            1011       1     1/1/17 22:04            1\n",
      "12            1012       1     1/1/17 22:08            1\n",
      "13            1013       0     1/1/17 23:51            1\n",
      "14            1014       1      1/2/17 0:28            1\n",
      "15            1015       0      1/2/17 1:20            4\n",
      "16            1016       1      1/2/17 1:24            1\n",
      "17            1017       0      1/2/17 1:42            2\n",
      "18            1018       0      1/2/17 1:52            2\n",
      "20            1019       0      1/2/17 2:17            1\n",
      "21            1020       0      1/2/17 2:45            3\n",
      "22            1021       1      1/2/17 3:18            2\n",
      "23            1022       0      1/2/17 3:36            1\n",
      "24            1023       0      1/2/17 4:07            4\n",
      "25            1024       1      1/2/17 5:19            1\n",
      "26            1025       0      1/2/17 5:19            3\n",
      "27            1026       0     1/2/17 14:52            1\n",
      "28            1027       0     1/2/17 15:49            1\n",
      "29            1028       0     1/2/17 16:41            2\n",
      "30            1029       0     1/2/17 17:01            1\n",
      "...            ...     ...              ...          ...\n",
      "13431         9784       0   12/30/17 20:38            1\n",
      "13432         9785       1   12/30/17 21:12            1\n",
      "13433         9786       1   12/30/17 21:36            1\n",
      "13435         9787       1   12/30/17 23:53            1\n",
      "13436         9788       1    12/31/17 0:26            1\n",
      "13438         9789       1    12/31/17 2:13            1\n",
      "13439         9790       0    12/31/17 3:15            1\n",
      "13441         9791       1    12/31/17 7:29            1\n",
      "13442         9792       1   12/31/17 12:50            1\n",
      "13443         9793       0   12/31/17 14:18            1\n",
      "13444         9794       1   12/31/17 15:13            1\n",
      "13446         9795       1   12/31/17 15:42            1\n",
      "13448         9796       0   12/31/17 16:19            1\n",
      "13449         9797       0   12/31/17 16:36            1\n",
      "13451         9798       1   12/31/17 17:36            1\n",
      "13452         9799       1   12/31/17 18:20            1\n",
      "13453         9800       1   12/31/17 18:33            1\n",
      "13455         9801       0   12/31/17 18:53            1\n",
      "13456         9802       1   12/31/17 18:55            1\n",
      "13457         9803       0   12/31/17 18:57            1\n",
      "13458         9804       0   12/31/17 19:49            1\n",
      "13459         9805       1   12/31/17 20:07            1\n",
      "13462         9806       1   12/31/17 21:08            1\n",
      "13463         9807       0   12/31/17 21:24            1\n",
      "13464         9808       1   12/31/17 21:39            1\n",
      "13465         9809       1   12/31/17 21:39            1\n",
      "13466         9810       1   12/31/17 22:16            1\n",
      "13467         9811       1   12/31/17 22:24            1\n",
      "13468         9812       0   12/31/17 23:01            1\n",
      "13469         9813       0   12/31/17 23:11            1\n",
      "\n",
      "[8814 rows x 4 columns]\n"
     ]
    }
   ],
   "source": [
    "# A: Assemble a dataframe with one row per customer \n",
    "data_a = copy.deepcopy(data)\n",
    "data_a['Order_count'] = data_a.groupby('customer_id')['customer_id'].transform('count')\n",
    "data_dup = data_a.drop_duplicates('customer_id').sort_values(by=['customer_id'])\n",
    "data_dup.rename(columns={\"date\":\"most_recent_date\"}, inplace=True)\n",
    "data_dup = data_dup.drop(['value'], axis=1)\n",
    "print(data_dup)"
   ]
  },
  {
   "cell_type": "code",
   "execution_count": 4,
   "metadata": {},
   "outputs": [
    {
     "data": {
      "image/png": "[encoded data removed]",
      "text/plain": [
       "<matplotlib.figure.Figure at 0x11393d6a0>"
      ]
     },
     "metadata": {},
     "output_type": "display_data"
    }
   ],
   "source": [
    "# B Plot the count of orders per week\n",
    "import matplotlib.pyplot as plt \n",
    "data_b = copy.deepcopy(data)\n",
    "\n",
    "# get week number \n",
    "data_b['week_day'] = pd.to_datetime(data_b['date']).dt.week.astype(str)\n",
    "\n",
    "# Split data\n",
    "order_number_perWeek = [0]*53\n",
    "week_2016 = data_b.iloc[:14, 4]\n",
    "week_2017 = data_b.iloc[14:, 4]\n",
    "\n",
    "# Count order per week\n",
    "for i in range(len(week_2017)):\n",
    "    order_number_perWeek[int(week_2017.iloc[i])] += 1\n",
    "order_number_perWeek[0] = len(week_2016)\n",
    "\n",
    "# build plot\n",
    "x_axis = [0]*53\n",
    "for i in range(1, len(order_number_perWeek)):\n",
    "    x_axis[i] = x_axis[i-1] + 1\n",
    "    \n",
    "plt.plot(x_axis, order_number_perWeek)\n",
    "plt.xlabel('Number of Week')\n",
    "plt.ylabel('Number of Order')\n",
    "plt.title('Number of Order Per Week')\n",
    "plt.show()\n"
   ]
  },
  {
   "cell_type": "code",
   "execution_count": 5,
   "metadata": {},
   "outputs": [
    {
     "name": "stdout",
     "output_type": "stream",
     "text": [
      "gender\n",
      "0    363.890006\n",
      "1    350.708361\n",
      "Name: value, dtype: float64\n"
     ]
    }
   ],
   "source": [
    "# C Mean Value for Gender 0 and Gender 1\n",
    "data_c = copy.deepcopy(data)\n",
    "mean_value = data_c.groupby(by=['gender']).mean()['value']\n",
    "print(mean_value)"
   ]
  },
  {
   "cell_type": "markdown",
   "metadata": {},
   "source": [
    "Answer: No, there is no big difference between Gender 0 and Gender 1"
   ]
  }
 ],
 "metadata": {
  "kernelspec": {
   "display_name": "Python 3",
   "language": "python",
   "name": "python3"
  },
  "language_info": {
   "codemirror_mode": {
    "name": "ipython",
    "version": 3
   },
   "file_extension": ".py",
   "mimetype": "text/x-python",
   "name": "python",
   "nbconvert_exporter": "python",
   "pygments_lexer": "ipython3",
   "version": "3.6.4"
  }
 },
 "nbformat": 4,
 "nbformat_minor": 1
}
